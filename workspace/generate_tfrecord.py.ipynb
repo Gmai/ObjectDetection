{
 "cells": [
  {
   "cell_type": "code",
   "execution_count": 1,
   "metadata": {},
   "outputs": [],
   "source": [
    "from __future__ import division\n",
    "from __future__ import print_function\n",
    "from __future__ import absolute_import\n",
    "\n",
    "import os\n",
    "import io\n",
    "import pandas as pd\n",
    "import tensorflow as tf\n",
    "\n",
    "object_detection_path = '../Github/models/research/object_detection'\n",
    "\n",
    "from PIL import Image\n",
    "import sys\n",
    "sys.path.insert(0, object_detection_path)\n",
    "from utils import dataset_util\n",
    "from collections import namedtuple, OrderedDict\n",
    "\n",
    "modes=[\n",
    "    ['./csvs/train_labels.csv',object_detection_path+'/data/train.record'],\n",
    "    ['./csvs/test_labels.csv', object_detection_path+'/data/test.record']\n",
    "]\n",
    "predefined_classes_file = 'predefined_classes.txt'\n",
    "label_map_file = object_detection_path+'/data/object_detection.pbtxt'\n",
    "\n",
    "predefined_classes =[]\n",
    "\n",
    "with open(predefined_classes_file, 'r') as myfile:\n",
    "    predefined_classes=myfile.read().split()"
   ]
  },
  {
   "cell_type": "code",
   "execution_count": 2,
   "metadata": {},
   "outputs": [],
   "source": [
    "def create_label_map(classes):\n",
    "    content = ''\n",
    "    count = 1\n",
    "    for clss in classes:\n",
    "        content += 'item {\\n'+'id:'+str(count)+'\\n'+'name:\\''+clss+'\\'\\n'+'}\\n'\n",
    "        count+=1\n",
    "    with open(label_map_file, \"w\") as text_file:\n",
    "        print(content, file=text_file)\n",
    "        \n"
   ]
  },
  {
   "cell_type": "code",
   "execution_count": 3,
   "metadata": {},
   "outputs": [
    {
     "name": "stdout",
     "output_type": "stream",
     "text": [
      "Successfully created the TFRecords: /usr/src/object_detection/workspace/../Github/models/research/object_detection/data/train.record\n",
      "Successfully created the TFRecords: /usr/src/object_detection/workspace/../Github/models/research/object_detection/data/test.record\n"
     ]
    }
   ],
   "source": [
    "def class_text_to_int(row_label):\n",
    "    return predefined_classes.index(row_label)+1\n",
    "\n",
    "def split(df, group):\n",
    "    data = namedtuple('data', ['filename', 'object'])\n",
    "    gb = df.groupby(group)\n",
    "    return [data(filename, gb.get_group(x)) for filename, x in zip(gb.groups.keys(), gb.groups)]\n",
    "\n",
    "\n",
    "def create_tf_example(group, path):\n",
    "    with tf.gfile.GFile(os.path.join(path, '{}'.format(group.filename)), 'rb') as fid:\n",
    "        encoded_jpg = fid.read()\n",
    "    encoded_jpg_io = io.BytesIO(encoded_jpg)\n",
    "    image = Image.open(encoded_jpg_io)\n",
    "    width, height = image.size\n",
    "\n",
    "    filename = group.filename.encode('utf8')\n",
    "    image_format = b'jpg'\n",
    "    xmins = []\n",
    "    xmaxs = []\n",
    "    ymins = []\n",
    "    ymaxs = []\n",
    "    classes_text = []\n",
    "    classes = []\n",
    "\n",
    "    for index, row in group.object.iterrows():\n",
    "        xmins.append(row['xmin'] / width)\n",
    "        xmaxs.append(row['xmax'] / width)\n",
    "        ymins.append(row['ymin'] / height)\n",
    "        ymaxs.append(row['ymax'] / height)\n",
    "        classes_text.append(row['class'].encode('utf8'))\n",
    "        classes.append(class_text_to_int(row['class']))\n",
    "\n",
    "    tf_example = tf.train.Example(features=tf.train.Features(feature={\n",
    "        'image/height': dataset_util.int64_feature(height),\n",
    "        'image/width': dataset_util.int64_feature(width),\n",
    "        'image/filename': dataset_util.bytes_feature(filename),\n",
    "        'image/source_id': dataset_util.bytes_feature(filename),\n",
    "        'image/encoded': dataset_util.bytes_feature(encoded_jpg),\n",
    "        'image/format': dataset_util.bytes_feature(image_format),\n",
    "        'image/object/bbox/xmin': dataset_util.float_list_feature(xmins),\n",
    "        'image/object/bbox/xmax': dataset_util.float_list_feature(xmaxs),\n",
    "        'image/object/bbox/ymin': dataset_util.float_list_feature(ymins),\n",
    "        'image/object/bbox/ymax': dataset_util.float_list_feature(ymaxs),\n",
    "        'image/object/class/text': dataset_util.bytes_list_feature(classes_text),\n",
    "        'image/object/class/label': dataset_util.int64_list_feature(classes),\n",
    "    }))\n",
    "    return tf_example\n",
    "\n",
    "\n",
    "def run():\n",
    "    create_label_map(predefined_classes)\n",
    "    for mode in modes:\n",
    "        writer = tf.python_io.TFRecordWriter(mode[1])\n",
    "        path = os.path.join(os.getcwd(), 'images')\n",
    "        examples = pd.read_csv(mode[0])\n",
    "        grouped = split(examples, 'filename')\n",
    "        for group in grouped:\n",
    "            tf_example = create_tf_example(group, path)\n",
    "            writer.write(tf_example.SerializeToString())\n",
    "\n",
    "        writer.close()\n",
    "        output_path = os.path.join(os.getcwd(), mode[1])\n",
    "        print('Successfully created the TFRecords: {}'.format(output_path))\n",
    "\n",
    "run()"
   ]
  },
  {
   "cell_type": "code",
   "execution_count": null,
   "metadata": {},
   "outputs": [],
   "source": []
  },
  {
   "cell_type": "code",
   "execution_count": null,
   "metadata": {},
   "outputs": [],
   "source": []
  }
 ],
 "metadata": {
  "kernelspec": {
   "display_name": "Python 3",
   "language": "python",
   "name": "python3"
  },
  "language_info": {
   "codemirror_mode": {
    "name": "ipython",
    "version": 3
   },
   "file_extension": ".py",
   "mimetype": "text/x-python",
   "name": "python",
   "nbconvert_exporter": "python",
   "pygments_lexer": "ipython3",
   "version": "3.5.2"
  }
 },
 "nbformat": 4,
 "nbformat_minor": 2
}
