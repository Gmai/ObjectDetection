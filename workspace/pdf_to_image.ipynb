{
 "cells": [
  {
   "cell_type": "code",
   "execution_count": 3,
   "metadata": {},
   "outputs": [],
   "source": [
    "from pdf2image import convert_from_path\n",
    "import os\n",
    "\n",
    "currentPath = os.getcwd()\n",
    "\n",
    "onlyfiles = [f for f in os.listdir(currentPath+'/pdfs') if os.path.isfile(os.path.join(currentPath+'/pdfs', f))]\n",
    "\n",
    "for fileName in onlyfiles:\n",
    "    images_from_path = convert_from_path(currentPath+'/pdfs/'+fileName,dpi=100,fmt='jpeg', output_folder=currentPath+'/images/')\n",
    " "
   ]
  },
  {
   "cell_type": "code",
   "execution_count": null,
   "metadata": {},
   "outputs": [],
   "source": []
  }
 ],
 "metadata": {
  "kernelspec": {
   "display_name": "Python 2",
   "language": "python",
   "name": "python2"
  },
  "language_info": {
   "codemirror_mode": {
    "name": "ipython",
    "version": 2
   },
   "file_extension": ".py",
   "mimetype": "text/x-python",
   "name": "python",
   "nbconvert_exporter": "python",
   "pygments_lexer": "ipython2",
   "version": "2.7.15"
  }
 },
 "nbformat": 4,
 "nbformat_minor": 2
}
