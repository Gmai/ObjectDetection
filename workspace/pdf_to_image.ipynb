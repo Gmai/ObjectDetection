{
 "cells": [
  {
   "cell_type": "code",
   "execution_count": 1,
   "metadata": {},
   "outputs": [],
   "source": [
    "from pdf2image import convert_from_path\n",
    "import os\n",
    "\n",
    "currentPath = os.getcwd()\n",
    "\n",
    "onlyfiles = [f for f in os.listdir(currentPath+'/pdfs') if os.path.isfile(os.path.join(currentPath+'/pdfs', f))]\n",
    "\n",
    "for fileName in onlyfiles:\n",
    "    images_from_path = convert_from_path(currentPath+'/pdfs/'+fileName,dpi=300,fmt='jpeg', output_folder=currentPath+'/images/')\n",
    " "
   ]
  },
  {
   "cell_type": "code",
   "execution_count": null,
   "metadata": {},
   "outputs": [],
   "source": []
  }
 ],
 "metadata": {
  "kernelspec": {
   "display_name": "Python 3",
   "language": "python",
   "name": "python3"
  },
  "language_info": {
   "codemirror_mode": {
    "name": "ipython",
    "version": 3
   },
   "file_extension": ".py",
   "mimetype": "text/x-python",
   "name": "python",
   "nbconvert_exporter": "python",
   "pygments_lexer": "ipython3",
   "version": "3.5.2"
  }
 },
 "nbformat": 4,
 "nbformat_minor": 2
}
